{
  "nbformat": 4,
  "nbformat_minor": 0,
  "metadata": {
    "colab": {
      "provenance": [],
      "authorship_tag": "ABX9TyNI5vbiugVEulBZCVVwEWXY",
      "include_colab_link": true
    },
    "kernelspec": {
      "name": "python3",
      "display_name": "Python 3"
    },
    "language_info": {
      "name": "python"
    }
  },
  "cells": [
    {
      "cell_type": "markdown",
      "metadata": {
        "id": "view-in-github",
        "colab_type": "text"
      },
      "source": [
        "<a href=\"https://colab.research.google.com/github/assanjayofficial/Python/blob/main/latihan_(lvl_easy).ipynb\" target=\"_parent\"><img src=\"https://colab.research.google.com/assets/colab-badge.svg\" alt=\"Open In Colab\"/></a>"
      ]
    },
    {
      "cell_type": "code",
      "execution_count": 1,
      "metadata": {
        "colab": {
          "base_uri": "https://localhost:8080/"
        },
        "id": "T6j0q5O64RRW",
        "outputId": "4d1dcf22-bd58-41bb-9335-8cfad638434c"
      },
      "outputs": [
        {
          "output_type": "stream",
          "name": "stdout",
          "text": [
            "   col1  col2  col3\n",
            "0     1     4     7\n",
            "1     2     5     8\n",
            "2     3     6    12\n",
            "3     4     9     1\n",
            "4     7     5    11\n"
          ]
        }
      ],
      "source": [
        "#DataFrame\n",
        "import pandas as pd\n",
        "\n",
        "d = {'col1': [1, 2, 3, 4, 7], 'col2': [4, 5, 6, 9, 5], 'col3': [7, 8, 12, 1, 11]}\n",
        "\n",
        "df = pd.DataFrame(data=d)\n",
        "\n",
        "print(df)\n"
      ]
    },
    {
      "cell_type": "code",
      "source": [
        "import pandas as pd\n"
      ],
      "metadata": {
        "id": "mCdclCLt4paC"
      },
      "execution_count": 11,
      "outputs": []
    },
    {
      "cell_type": "code",
      "source": [
        "import pandas as pd\n",
        "\n",
        "d = {'col1': [1, 2, 3, 4, 7], 'col2': [4, 5, 6, 9, 5], 'col3': [7, 8, 12, 1, 11], 'col4' : [22, 23, 24, 25, 26]}\n",
        "\n",
        "df = pd.DataFrame(data=d)\n",
        "count_column = df.shape[1]\n",
        "\n",
        "print(\"Number of columns:\")\n",
        "print(count_column)"
      ],
      "metadata": {
        "colab": {
          "base_uri": "https://localhost:8080/"
        },
        "id": "gdwugQUU40SA",
        "outputId": "a1c1ac38-36e3-4745-c98d-7aa8b2755bad"
      },
      "execution_count": 3,
      "outputs": [
        {
          "output_type": "stream",
          "name": "stdout",
          "text": [
            "Number of columns:\n",
            "4\n"
          ]
        }
      ]
    },
    {
      "cell_type": "code",
      "source": [
        "d = {'col1': [1, 2, 3, 4, 7], 'col2': [4, 5, 6, 9, 5], 'col3': [7, 8, 12, 1, 11], 'col4' : [22, 23, 24, 25, 26]}\n",
        "\n",
        "df = pd.DataFrame(data=d)\n",
        "count_row = df.shape[0]\n",
        "\n",
        "print(\"Number of rows:\")\n",
        "print(count_row)"
      ],
      "metadata": {
        "colab": {
          "base_uri": "https://localhost:8080/"
        },
        "id": "w9clCbwQ5cWh",
        "outputId": "ab02bdbf-4254-4afc-9f68-8b2cb330fc6b"
      },
      "execution_count": 5,
      "outputs": [
        {
          "output_type": "stream",
          "name": "stdout",
          "text": [
            "Number of rows:\n",
            "5\n"
          ]
        }
      ]
    },
    {
      "cell_type": "code",
      "source": [
        "#FunctionMax\n",
        "Average_pulse_max = max(80, 85, 90, 95, 100, 105, 110, 115, 120, 125)\n",
        "\n",
        "print (Average_pulse_max)"
      ],
      "metadata": {
        "colab": {
          "base_uri": "https://localhost:8080/"
        },
        "id": "Y3uXRd6b5-b6",
        "outputId": "20414946-1602-4579-ac10-52bfbd888888"
      },
      "execution_count": 7,
      "outputs": [
        {
          "output_type": "stream",
          "name": "stdout",
          "text": [
            "125\n"
          ]
        }
      ]
    },
    {
      "cell_type": "code",
      "source": [
        "Average_pulse_min = min(80, 85, 90, 95, 100, 105, 110, 115, 120, 125)\n",
        "\n",
        "print(Average_pulse_min)\n",
        "\n",
        "#FunctionMin"
      ],
      "metadata": {
        "colab": {
          "base_uri": "https://localhost:8080/"
        },
        "id": "EiW8VVk06PcB",
        "outputId": "d79da002-31b1-4e97-e1de-1ee72b072226"
      },
      "execution_count": 8,
      "outputs": [
        {
          "output_type": "stream",
          "name": "stdout",
          "text": [
            "80\n"
          ]
        }
      ]
    },
    {
      "cell_type": "code",
      "source": [
        "import numpy as np"
      ],
      "metadata": {
        "id": "XEt-7dUB6eeO"
      },
      "execution_count": 9,
      "outputs": []
    },
    {
      "cell_type": "code",
      "source": [
        "Calorie_burnage = [240, 250, 260, 270, 280, 290, 300, 310, 320, 330]\n",
        "\n",
        "Average_calorie_burnage = np.mean(Calorie_burnage)\n",
        "\n",
        "print(Average_calorie_burnage)"
      ],
      "metadata": {
        "colab": {
          "base_uri": "https://localhost:8080/"
        },
        "id": "b2QHGnHR6n2c",
        "outputId": "b5b2eb56-0342-4fce-dae0-48fd785f13da"
      },
      "execution_count": 10,
      "outputs": [
        {
          "output_type": "stream",
          "name": "stdout",
          "text": [
            "285.0\n"
          ]
        }
      ]
    }
  ]
}